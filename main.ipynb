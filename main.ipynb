{
 "metadata": {
  "language_info": {
   "codemirror_mode": {
    "name": "ipython",
    "version": 3
   },
   "file_extension": ".py",
   "mimetype": "text/x-python",
   "name": "python",
   "nbconvert_exporter": "python",
   "pygments_lexer": "ipython3",
   "version": "3.8.5"
  },
  "orig_nbformat": 2,
  "kernelspec": {
   "name": "pythonjvsc74a57bd03319f8c559ec5b28f4fc211c89d85b637ebe4f40dab8d3796afd3d95340fcd10",
   "display_name": "Python 3.8.5  ('venv': venv)"
  },
  "metadata": {
   "interpreter": {
    "hash": "3319f8c559ec5b28f4fc211c89d85b637ebe4f40dab8d3796afd3d95340fcd10"
   }
  }
 },
 "nbformat": 4,
 "nbformat_minor": 2,
 "cells": [
  {
   "cell_type": "code",
   "execution_count": null,
   "metadata": {},
   "outputs": [],
   "source": [
    "import torchvision.transforms as transforms\n",
    "from torch.utils.data import random_split, DataLoader\n",
    "import torch\n",
    "import matplotlib.pyplot as plt\n",
    "\n",
    "from datasets.cityscapes import setupDatasetsAndLoaders"
   ]
  },
  {
   "cell_type": "code",
   "execution_count": null,
   "metadata": {
    "tags": []
   },
   "outputs": [],
   "source": [
    "train_set, val_set, test_set, train_loader, val_loader, test_loader = setupDatasetsAndLoaders('./data')\n",
    "\n",
    "for sample in train_loader:\n",
    "    imgSeq, annotatedOutput, imgName = sample\n",
    "    \n",
    "    print(f'image name: {imgName}')\n",
    "    print(f'image tensor size: {imgSeq[-1].shape}')\n",
    "    print(f'annotated output tensor size: {annotatedOutput.shape}')\n",
    "\n",
    "    # plt.imshow(imgSeq[-1].permute(1, 2, 0))\n",
    "    plt.imshow(annotatedOutput.permute(1, 2, 0))\n",
    "    break\n"
   ]
  },
  {
   "cell_type": "code",
   "execution_count": null,
   "metadata": {},
   "outputs": [],
   "source": []
  }
 ]
}