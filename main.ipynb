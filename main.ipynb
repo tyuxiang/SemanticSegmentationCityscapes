{
 "cells": [
  {
   "cell_type": "code",
   "execution_count": 1,
   "metadata": {},
   "outputs": [
    {
     "name": "stdout",
     "output_type": "stream",
     "text": [
      "1.4.0\n"
     ]
    }
   ],
   "source": [
    "import torchvision.transforms as transforms\n",
    "from torch.utils.data import random_split, DataLoader\n",
    "import torch\n",
    "import matplotlib.pyplot as plt\n",
    "\n",
    "from datasets.cityscapes import setupDatasetsAndLoaders\n",
    "\n",
    "print(torch.__version__)"
   ]
  },
  {
   "cell_type": "code",
   "execution_count": 2,
   "metadata": {
    "tags": []
   },
   "outputs": [
    {
     "name": "stdout",
     "output_type": "stream",
     "text": [
      "image name: ('ulm_000093_000019_leftImg8bit',)\n",
      "image tensor size: torch.Size([1, 3, 1024, 2048])\n",
      "annotated output tensor size: torch.Size([1, 1024, 2048])\n"
     ]
    },
    {
     "data": {
      "image/png": "[encoded data removed]",
      "text/plain": [
       "<Figure size 432x288 with 1 Axes>"
      ]
     },
     "metadata": {
      "needs_background": "light"
     },
     "output_type": "display_data"
    }
   ],
   "source": [
    "train_set, val_set, test_set, train_loader, val_loader, test_loader = setupDatasetsAndLoaders('./data', batch_size=1)\n",
    "\n",
    "for sample in train_loader:\n",
    "    imgSeq, annotatedOutput, imgName = sample\n",
    "\n",
    "    print(f'image name: {imgName}')\n",
    "    print(f'image tensor size: {imgSeq[-1].shape}')\n",
    "    print(f'annotated output tensor size: {annotatedOutput.shape}')\n",
    "\n",
    "    # plt.imshow(imgSeq[-1][0].permute(1, 2, 0))\n",
    "    plt.imshow(annotatedOutput[0])\n",
    "    \n",
    "    break\n"
   ]
  },
  {
   "cell_type": "code",
   "execution_count": null,
   "metadata": {},
   "outputs": [
    {
     "name": "stdout",
     "output_type": "stream",
     "text": [
      "Training: Batchsize = 8 ,Learning Rate = 0.001\n",
      "Using device: cpu\n",
      "Torch version: 1.4.0\n"
     ]
    },
    {
     "name": "stderr",
     "output_type": "stream",
     "text": [
      "  0%|          | 0/9 [00:00<?, ?it/s]/opt/conda/lib/python3.6/site-packages/torch/nn/functional.py:2506: UserWarning: Default upsampling behavior when mode=bilinear is changed to align_corners=False since 0.4.0. Please specify align_corners=True if the old behavior is desired. See the documentation of nn.Upsample for details.\n",
      "  \"See the documentation of nn.Upsample for details.\".format(mode))\n",
      "100%|██████████| 9/9 [01:59<00:00, 13.31s/it]\n"
     ]
    },
    {
     "name": "stdout",
     "output_type": "stream",
     "text": [
      "epoch 1/20, loss 2.8357, val_loss 2.3626, train IoU 0.0781, val IoU 0.0665\n"
     ]
    },
    {
     "name": "stderr",
     "output_type": "stream",
     "text": [
      "100%|██████████| 9/9 [01:56<00:00, 12.94s/it]\n"
     ]
    },
    {
     "name": "stdout",
     "output_type": "stream",
     "text": [
      "epoch 2/20, loss 1.9897, val_loss 2.0823, train IoU 0.0829, val IoU 0.0763\n"
     ]
    },
    {
     "name": "stderr",
     "output_type": "stream",
     "text": [
      "100%|██████████| 9/9 [01:57<00:00, 13.02s/it]\n"
     ]
    },
    {
     "name": "stdout",
     "output_type": "stream",
     "text": [
      "epoch 3/20, loss 1.5987, val_loss 1.7198, train IoU 0.1036, val IoU 0.0910\n"
     ]
    },
    {
     "name": "stderr",
     "output_type": "stream",
     "text": [
      " 44%|████▍     | 4/9 [00:57<01:11, 14.37s/it]"
     ]
    }
   ],
   "source": [
    "from train import hyperparams_train, train\n",
    "\n",
    "#yuxiang: optimizer = \"sgd\"\n",
    "#shiying: optimizer = \"rmsprop\"\n",
    "\n",
    "hyperparams_train(optimizer = \"adam\",use_psp= True)\n"
   ]
  }
 ],
 "metadata": {
  "kernelspec": {
   "display_name": "Python 3",
   "language": "python",
   "name": "python3"
  },
  "language_info": {
   "codemirror_mode": {
    "name": "ipython",
    "version": 3
   },
   "file_extension": ".py",
   "mimetype": "text/x-python",
   "name": "python",
   "nbconvert_exporter": "python",
   "pygments_lexer": "ipython3",
   "version": "3.6.10"
  },
  "metadata": {
   "interpreter": {
    "hash": "3319f8c559ec5b28f4fc211c89d85b637ebe4f40dab8d3796afd3d95340fcd10"
   }
  }
 },
 "nbformat": 4,
 "nbformat_minor": 2
}
