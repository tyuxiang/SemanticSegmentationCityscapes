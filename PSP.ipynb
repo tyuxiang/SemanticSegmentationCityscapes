{
 "cells": [
  {
   "cell_type": "code",
   "execution_count": 1,
   "metadata": {},
   "outputs": [],
   "source": [
    "import torch\n",
    "import torchvision\n",
    "import torchvision.transforms as transforms\n",
    "import torch.nn as nn\n",
    "import torch.nn.functional as F\n",
    "from torch.autograd import Variable\n",
    "from torchvision.utils import save_image\n",
    "import matplotlib.pyplot as plt\n",
    "from tqdm import tqdm\n",
    "from datasets.cityscapes import setupDatasetsAndLoaders"
   ]
  },
  {
   "cell_type": "code",
   "execution_count": 2,
   "metadata": {},
   "outputs": [
    {
     "name": "stdout",
     "output_type": "stream",
     "text": [
      "True\n",
      "cuda\n"
     ]
    }
   ],
   "source": [
    "# CUDA check\n",
    "CUDA = True\n",
    "device = \"cuda\" if (torch.cuda.is_available() and CUDA) else \"cpu\"\n",
    "print(torch.cuda.is_available())\n",
    "print(device)\n",
    "# device = \"\""
   ]
  },
  {
   "cell_type": "code",
   "execution_count": 3,
   "metadata": {},
   "outputs": [
    {
     "name": "stdout",
     "output_type": "stream",
     "text": [
      "1.4.0\n"
     ]
    }
   ],
   "source": [
    "print(torch.__version__)"
   ]
  },
  {
   "cell_type": "markdown",
   "metadata": {},
   "source": [
    "### Datasets and Dataloader"
   ]
  },
  {
   "cell_type": "code",
   "execution_count": 4,
   "metadata": {},
   "outputs": [
    {
     "name": "stdout",
     "output_type": "stream",
     "text": [
      "image name: ('ulm_000036_000019_leftImg8bit', 'ulm_000039_000019_leftImg8bit', 'ulm_000083_000019_leftImg8bit', 'ulm_000005_000019_leftImg8bit', 'ulm_000000_000019_leftImg8bit', 'ulm_000066_000019_leftImg8bit', 'ulm_000082_000019_leftImg8bit', 'ulm_000072_000019_leftImg8bit')\n",
      "image tensor size: torch.Size([8, 3, 224, 448])\n",
      "annotated output tensor size: torch.Size([8, 224, 448])\n"
     ]
    },
    {
     "data": {
      "image/png": "[encoded data removed]",
      "text/plain": [
       "<Figure size 432x288 with 1 Axes>"
      ]
     },
     "metadata": {
      "needs_background": "light"
     },
     "output_type": "display_data"
    }
   ],
   "source": [
    "train_set, val_set, test_set, train_loader, val_loader, test_loader = setupDatasetsAndLoaders('./data', batch_size=8)\n",
    "\n",
    "for sample in train_loader:\n",
    "    imgSeq, annotatedOutput, imgName = sample\n",
    "\n",
    "    print(f'image name: {imgName}')\n",
    "    print(f'image tensor size: {imgSeq[-1].shape}')\n",
    "    print(f'annotated output tensor size: {annotatedOutput.shape}')\n",
    "\n",
    "    # plt.imshow(imgSeq[-1][0].permute(1, 2, 0))\n",
    "#     print(annotatedOutput[0,200:400,0:200])\n",
    "    plt.imshow(annotatedOutput[0])\n",
    "    break"
   ]
  },
  {
   "cell_type": "markdown",
   "metadata": {},
   "source": [
    "### Model"
   ]
  },
  {
   "cell_type": "code",
   "execution_count": 5,
   "metadata": {},
   "outputs": [],
   "source": [
    "# Define AutoEncoder Model for MNIST\n",
    "class MNIST_Autoencoder(nn.Module):\n",
    "\n",
    "    def __init__(self, num_classes=19,pool_scales=(1,2,3,6)):\n",
    "        \n",
    "        # Init from nn.Module\n",
    "        super().__init__()\n",
    "        \n",
    "        # Encoder part will be a simple sequence of Conv2d+ReLU.\n",
    "        self.encoder = nn.Sequential(nn.Conv2d(3, 16, 3, stride = 2, padding = 1),\n",
    "                                     nn.ReLU(),\n",
    "                                     nn.Conv2d(16, 32, 3, stride = 2, padding = 1),\n",
    "                                     nn.ReLU(),\n",
    "                                     nn.Conv2d(32, 64, 3, stride = 2, padding = 1),\n",
    "                                     nn.ReLU(),\n",
    "                                     nn.Conv2d(64, 128, 3, stride = 2, padding = 1),\n",
    "                                     nn.ReLU(),\n",
    "                                     nn.Conv2d(128, 256, 3, stride = 2, padding = 1),\n",
    "                                     nn.ReLU(),\n",
    "                                     nn.Conv2d(256, 256, 3, stride = 2, padding = 1),\n",
    "                                     nn.ReLU(),\n",
    "                                     nn.Conv2d(256, 512, 3),\n",
    "                                     nn.ReLU(),\n",
    "                                     nn.Conv2d(512, num_classes, 1))\n",
    "        \n",
    "        \n",
    "        # Decoder part will be a simple sequence of TransposeConv2d+ReLU.\n",
    "        # Finish with Sigmoid\n",
    "        self.decoder = nn.Sequential(nn.ConvTranspose2d(num_classes, num_classes, 3),\n",
    "                                     nn.ReLU(),\n",
    "                                     nn.ConvTranspose2d(num_classes, num_classes, 3, stride = 2, padding = 1, output_padding = 1),\n",
    "                                     nn.ReLU(),\n",
    "                                     nn.ConvTranspose2d(num_classes, num_classes, 3, stride = 2, padding = 1, output_padding = 1),\n",
    "                                     nn.ReLU(),\n",
    "                                     nn.ConvTranspose2d(num_classes, num_classes, 3, stride = 2, padding = 1, output_padding = 1),\n",
    "                                     nn.ReLU(),\n",
    "                                     nn.ConvTranspose2d(num_classes, num_classes, 3, stride = 2, padding = 1, output_padding = 1),\n",
    "                                     nn.ReLU(),\n",
    "                                     nn.ConvTranspose2d(num_classes, num_classes, 3, stride = 2, padding = 1, output_padding = 1),\n",
    "                                     nn.ReLU(),\n",
    "                                     nn.ConvTranspose2d(num_classes, num_classes, 3, stride = 2, padding = 1, output_padding = 1),\n",
    "                                     nn.ReLU())\n",
    "        \n",
    "        \n",
    "        #PSP variables\n",
    "        self.pool_scale = pool_scales\n",
    "        dim = 16\n",
    "\n",
    "        self.psp = []\n",
    "        for scale in pool_scales:\n",
    "            self.psp.append(nn.Sequential(\n",
    "                nn.AdaptiveAvgPool2d(scale),\n",
    "                nn.Conv2d(num_classes, dim, kernel_size=1, bias=False),\n",
    "#                 nn.BatchNorm2d(dim),\n",
    "                nn.ReLU(inplace=True)\n",
    "            ))\n",
    "        self.psp = nn.ModuleList(self.psp)\n",
    "\n",
    "        self.conv_last = nn.Sequential(\n",
    "#             nn.Conv2d(num_classes+len(pool_scales)*dim, dim,\n",
    "#                       kernel_size=3, padding=1, bias=False),\n",
    "#             nn.BatchNorm2d(dim),\n",
    "#             nn.ReLU(inplace=True),\n",
    "#             nn.Dropout(0.1),\n",
    "            nn.Conv2d(num_classes+len(pool_scales)*dim, num_classes, kernel_size=1)\n",
    "        )\n",
    "        \n",
    "\n",
    "    def forward(self,x):\n",
    "        \n",
    "        # Forward is encoder into decoder\n",
    "        x = self.encoder(x)\n",
    "        x = self.decoder(x)\n",
    "        \n",
    "        \n",
    "        #Referred from https://github.com/CSAILVision/semantic-segmentation-pytorch/blob/e21b8e2bfb1cb145941c36468fc807f20146b71a/models.py\n",
    "#         print(\"After Autoencoder:\",x.shape)\n",
    "        input_size = x.size()\n",
    "        psp_out = [x]\n",
    "        for pool_scale in self.psp:\n",
    "            pool = pool_scale(x)\n",
    "#             print(\"After pooling:\",pool.shape)\n",
    "            p_layer = nn.functional.interpolate(\n",
    "                pool,\n",
    "                (input_size[2], input_size[3]),\n",
    "                mode='bilinear')\n",
    "#             print(\"After upsampling:\",p_layer.shape)\n",
    "            psp_out.append(p_layer)            \n",
    "        x = torch.cat(psp_out, 1)\n",
    "#         print(\"After concatenation:\",x.shape)\n",
    "        x = self.conv_last(x)\n",
    "#         print(\"After last convolution:\",x.shape)\n",
    "        \n",
    "        return x"
   ]
  },
  {
   "cell_type": "markdown",
   "metadata": {},
   "source": [
    "### Train"
   ]
  },
  {
   "cell_type": "code",
   "execution_count": 6,
   "metadata": {},
   "outputs": [],
   "source": [
    "# Initialize MNIST Autoencoder\n",
    "torch.manual_seed(10)\n",
    "model = MNIST_Autoencoder().to(device)"
   ]
  },
  {
   "cell_type": "code",
   "execution_count": 7,
   "metadata": {},
   "outputs": [],
   "source": [
    "# for sample in train_loader:\n",
    "#     imgSeq, annotatedOutput, imgName = sample\n",
    "#     model(imgSeq[0].to(device))\n",
    "#     break"
   ]
  },
  {
   "cell_type": "code",
   "execution_count": 8,
   "metadata": {},
   "outputs": [],
   "source": [
    "# Defining Parameters\n",
    "# - MSE Loss, which will be our reconstruction loss for now\n",
    "# - Adam as optimizer\n",
    "# - 20 Epochs\n",
    "# - 128 as batch size\n",
    "num_epochs = 20\n",
    "batch_size = 1\n",
    "loss_fn = nn.CrossEntropyLoss(ignore_index=255)\n",
    "optimizer = torch.optim.Adam(model.parameters(),weight_decay = 1e-5)"
   ]
  },
  {
   "cell_type": "code",
   "execution_count": 9,
   "metadata": {},
   "outputs": [
    {
     "name": "stderr",
     "output_type": "stream",
     "text": [
      "  0%|          | 0/9 [00:00<?, ?it/s]/opt/conda/lib/python3.6/site-packages/torch/nn/functional.py:2506: UserWarning: Default upsampling behavior when mode=bilinear is changed to align_corners=False since 0.4.0. Please specify align_corners=True if the old behavior is desired. See the documentation of nn.Upsample for details.\n",
      "  \"See the documentation of nn.Upsample for details.\".format(mode))\n",
      "  0%|          | 0/9 [00:03<?, ?it/s]\n"
     ]
    },
    {
     "ename": "RuntimeError",
     "evalue": "input and target batch or spatial sizes don't match: target [8 x 224 x 448], input [8 x 19 x 256 x 448] at /opt/conda/conda-bld/pytorch_1579022034529/work/aten/src/THCUNN/generic/SpatialClassNLLCriterion.cu:23",
     "output_type": "error",
     "traceback": [
      "\u001b[0;31m---------------------------------------------------------------------------\u001b[0m",
      "\u001b[0;31mRuntimeError\u001b[0m                              Traceback (most recent call last)",
      "\u001b[0;32m<ipython-input-9-10c521416244>\u001b[0m in \u001b[0;36m<module>\u001b[0;34m\u001b[0m\n\u001b[1;32m     16\u001b[0m         \u001b[0mannotatedOutput\u001b[0m \u001b[0;34m=\u001b[0m \u001b[0mannotatedOutput\u001b[0m\u001b[0;34m.\u001b[0m\u001b[0mto\u001b[0m\u001b[0;34m(\u001b[0m\u001b[0mdevice\u001b[0m\u001b[0;34m)\u001b[0m\u001b[0;34m.\u001b[0m\u001b[0mlong\u001b[0m\u001b[0;34m(\u001b[0m\u001b[0;34m)\u001b[0m\u001b[0;34m\u001b[0m\u001b[0;34m\u001b[0m\u001b[0m\n\u001b[1;32m     17\u001b[0m \u001b[0;31m#         output = output.argmax(dim=1)\u001b[0m\u001b[0;34m\u001b[0m\u001b[0;34m\u001b[0m\u001b[0;34m\u001b[0m\u001b[0m\n\u001b[0;32m---> 18\u001b[0;31m         \u001b[0mloss\u001b[0m \u001b[0;34m=\u001b[0m \u001b[0mloss_fn\u001b[0m\u001b[0;34m(\u001b[0m\u001b[0moutput\u001b[0m\u001b[0;34m,\u001b[0m \u001b[0mannotatedOutput\u001b[0m\u001b[0;34m)\u001b[0m\u001b[0;34m\u001b[0m\u001b[0;34m\u001b[0m\u001b[0m\n\u001b[0m\u001b[1;32m     19\u001b[0m \u001b[0;34m\u001b[0m\u001b[0m\n\u001b[1;32m     20\u001b[0m         \u001b[0;31m# Backprop\u001b[0m\u001b[0;34m\u001b[0m\u001b[0;34m\u001b[0m\u001b[0;34m\u001b[0m\u001b[0m\n",
      "\u001b[0;32m/opt/conda/lib/python3.6/site-packages/torch/nn/modules/module.py\u001b[0m in \u001b[0;36m__call__\u001b[0;34m(self, *input, **kwargs)\u001b[0m\n\u001b[1;32m    530\u001b[0m             \u001b[0mresult\u001b[0m \u001b[0;34m=\u001b[0m \u001b[0mself\u001b[0m\u001b[0;34m.\u001b[0m\u001b[0m_slow_forward\u001b[0m\u001b[0;34m(\u001b[0m\u001b[0;34m*\u001b[0m\u001b[0minput\u001b[0m\u001b[0;34m,\u001b[0m \u001b[0;34m**\u001b[0m\u001b[0mkwargs\u001b[0m\u001b[0;34m)\u001b[0m\u001b[0;34m\u001b[0m\u001b[0;34m\u001b[0m\u001b[0m\n\u001b[1;32m    531\u001b[0m         \u001b[0;32melse\u001b[0m\u001b[0;34m:\u001b[0m\u001b[0;34m\u001b[0m\u001b[0;34m\u001b[0m\u001b[0m\n\u001b[0;32m--> 532\u001b[0;31m             \u001b[0mresult\u001b[0m \u001b[0;34m=\u001b[0m \u001b[0mself\u001b[0m\u001b[0;34m.\u001b[0m\u001b[0mforward\u001b[0m\u001b[0;34m(\u001b[0m\u001b[0;34m*\u001b[0m\u001b[0minput\u001b[0m\u001b[0;34m,\u001b[0m \u001b[0;34m**\u001b[0m\u001b[0mkwargs\u001b[0m\u001b[0;34m)\u001b[0m\u001b[0;34m\u001b[0m\u001b[0;34m\u001b[0m\u001b[0m\n\u001b[0m\u001b[1;32m    533\u001b[0m         \u001b[0;32mfor\u001b[0m \u001b[0mhook\u001b[0m \u001b[0;32min\u001b[0m \u001b[0mself\u001b[0m\u001b[0;34m.\u001b[0m\u001b[0m_forward_hooks\u001b[0m\u001b[0;34m.\u001b[0m\u001b[0mvalues\u001b[0m\u001b[0;34m(\u001b[0m\u001b[0;34m)\u001b[0m\u001b[0;34m:\u001b[0m\u001b[0;34m\u001b[0m\u001b[0;34m\u001b[0m\u001b[0m\n\u001b[1;32m    534\u001b[0m             \u001b[0mhook_result\u001b[0m \u001b[0;34m=\u001b[0m \u001b[0mhook\u001b[0m\u001b[0;34m(\u001b[0m\u001b[0mself\u001b[0m\u001b[0;34m,\u001b[0m \u001b[0minput\u001b[0m\u001b[0;34m,\u001b[0m \u001b[0mresult\u001b[0m\u001b[0;34m)\u001b[0m\u001b[0;34m\u001b[0m\u001b[0;34m\u001b[0m\u001b[0m\n",
      "\u001b[0;32m/opt/conda/lib/python3.6/site-packages/torch/nn/modules/loss.py\u001b[0m in \u001b[0;36mforward\u001b[0;34m(self, input, target)\u001b[0m\n\u001b[1;32m    914\u001b[0m     \u001b[0;32mdef\u001b[0m \u001b[0mforward\u001b[0m\u001b[0;34m(\u001b[0m\u001b[0mself\u001b[0m\u001b[0;34m,\u001b[0m \u001b[0minput\u001b[0m\u001b[0;34m,\u001b[0m \u001b[0mtarget\u001b[0m\u001b[0;34m)\u001b[0m\u001b[0;34m:\u001b[0m\u001b[0;34m\u001b[0m\u001b[0;34m\u001b[0m\u001b[0m\n\u001b[1;32m    915\u001b[0m         return F.cross_entropy(input, target, weight=self.weight,\n\u001b[0;32m--> 916\u001b[0;31m                                ignore_index=self.ignore_index, reduction=self.reduction)\n\u001b[0m\u001b[1;32m    917\u001b[0m \u001b[0;34m\u001b[0m\u001b[0m\n\u001b[1;32m    918\u001b[0m \u001b[0;34m\u001b[0m\u001b[0m\n",
      "\u001b[0;32m/opt/conda/lib/python3.6/site-packages/torch/nn/functional.py\u001b[0m in \u001b[0;36mcross_entropy\u001b[0;34m(input, target, weight, size_average, ignore_index, reduce, reduction)\u001b[0m\n\u001b[1;32m   2019\u001b[0m     \u001b[0;32mif\u001b[0m \u001b[0msize_average\u001b[0m \u001b[0;32mis\u001b[0m \u001b[0;32mnot\u001b[0m \u001b[0;32mNone\u001b[0m \u001b[0;32mor\u001b[0m \u001b[0mreduce\u001b[0m \u001b[0;32mis\u001b[0m \u001b[0;32mnot\u001b[0m \u001b[0;32mNone\u001b[0m\u001b[0;34m:\u001b[0m\u001b[0;34m\u001b[0m\u001b[0;34m\u001b[0m\u001b[0m\n\u001b[1;32m   2020\u001b[0m         \u001b[0mreduction\u001b[0m \u001b[0;34m=\u001b[0m \u001b[0m_Reduction\u001b[0m\u001b[0;34m.\u001b[0m\u001b[0mlegacy_get_string\u001b[0m\u001b[0;34m(\u001b[0m\u001b[0msize_average\u001b[0m\u001b[0;34m,\u001b[0m \u001b[0mreduce\u001b[0m\u001b[0;34m)\u001b[0m\u001b[0;34m\u001b[0m\u001b[0;34m\u001b[0m\u001b[0m\n\u001b[0;32m-> 2021\u001b[0;31m     \u001b[0;32mreturn\u001b[0m \u001b[0mnll_loss\u001b[0m\u001b[0;34m(\u001b[0m\u001b[0mlog_softmax\u001b[0m\u001b[0;34m(\u001b[0m\u001b[0minput\u001b[0m\u001b[0;34m,\u001b[0m \u001b[0;36m1\u001b[0m\u001b[0;34m)\u001b[0m\u001b[0;34m,\u001b[0m \u001b[0mtarget\u001b[0m\u001b[0;34m,\u001b[0m \u001b[0mweight\u001b[0m\u001b[0;34m,\u001b[0m \u001b[0;32mNone\u001b[0m\u001b[0;34m,\u001b[0m \u001b[0mignore_index\u001b[0m\u001b[0;34m,\u001b[0m \u001b[0;32mNone\u001b[0m\u001b[0;34m,\u001b[0m \u001b[0mreduction\u001b[0m\u001b[0;34m)\u001b[0m\u001b[0;34m\u001b[0m\u001b[0;34m\u001b[0m\u001b[0m\n\u001b[0m\u001b[1;32m   2022\u001b[0m \u001b[0;34m\u001b[0m\u001b[0m\n\u001b[1;32m   2023\u001b[0m \u001b[0;34m\u001b[0m\u001b[0m\n",
      "\u001b[0;32m/opt/conda/lib/python3.6/site-packages/torch/nn/functional.py\u001b[0m in \u001b[0;36mnll_loss\u001b[0;34m(input, target, weight, size_average, ignore_index, reduce, reduction)\u001b[0m\n\u001b[1;32m   1838\u001b[0m         \u001b[0mret\u001b[0m \u001b[0;34m=\u001b[0m \u001b[0mtorch\u001b[0m\u001b[0;34m.\u001b[0m\u001b[0m_C\u001b[0m\u001b[0;34m.\u001b[0m\u001b[0m_nn\u001b[0m\u001b[0;34m.\u001b[0m\u001b[0mnll_loss\u001b[0m\u001b[0;34m(\u001b[0m\u001b[0minput\u001b[0m\u001b[0;34m,\u001b[0m \u001b[0mtarget\u001b[0m\u001b[0;34m,\u001b[0m \u001b[0mweight\u001b[0m\u001b[0;34m,\u001b[0m \u001b[0m_Reduction\u001b[0m\u001b[0;34m.\u001b[0m\u001b[0mget_enum\u001b[0m\u001b[0;34m(\u001b[0m\u001b[0mreduction\u001b[0m\u001b[0;34m)\u001b[0m\u001b[0;34m,\u001b[0m \u001b[0mignore_index\u001b[0m\u001b[0;34m)\u001b[0m\u001b[0;34m\u001b[0m\u001b[0;34m\u001b[0m\u001b[0m\n\u001b[1;32m   1839\u001b[0m     \u001b[0;32melif\u001b[0m \u001b[0mdim\u001b[0m \u001b[0;34m==\u001b[0m \u001b[0;36m4\u001b[0m\u001b[0;34m:\u001b[0m\u001b[0;34m\u001b[0m\u001b[0;34m\u001b[0m\u001b[0m\n\u001b[0;32m-> 1840\u001b[0;31m         \u001b[0mret\u001b[0m \u001b[0;34m=\u001b[0m \u001b[0mtorch\u001b[0m\u001b[0;34m.\u001b[0m\u001b[0m_C\u001b[0m\u001b[0;34m.\u001b[0m\u001b[0m_nn\u001b[0m\u001b[0;34m.\u001b[0m\u001b[0mnll_loss2d\u001b[0m\u001b[0;34m(\u001b[0m\u001b[0minput\u001b[0m\u001b[0;34m,\u001b[0m \u001b[0mtarget\u001b[0m\u001b[0;34m,\u001b[0m \u001b[0mweight\u001b[0m\u001b[0;34m,\u001b[0m \u001b[0m_Reduction\u001b[0m\u001b[0;34m.\u001b[0m\u001b[0mget_enum\u001b[0m\u001b[0;34m(\u001b[0m\u001b[0mreduction\u001b[0m\u001b[0;34m)\u001b[0m\u001b[0;34m,\u001b[0m \u001b[0mignore_index\u001b[0m\u001b[0;34m)\u001b[0m\u001b[0;34m\u001b[0m\u001b[0;34m\u001b[0m\u001b[0m\n\u001b[0m\u001b[1;32m   1841\u001b[0m     \u001b[0;32melse\u001b[0m\u001b[0;34m:\u001b[0m\u001b[0;34m\u001b[0m\u001b[0;34m\u001b[0m\u001b[0m\n\u001b[1;32m   1842\u001b[0m         \u001b[0;31m# dim == 3 or dim > 4\u001b[0m\u001b[0;34m\u001b[0m\u001b[0;34m\u001b[0m\u001b[0;34m\u001b[0m\u001b[0m\n",
      "\u001b[0;31mRuntimeError\u001b[0m: input and target batch or spatial sizes don't match: target [8 x 224 x 448], input [8 x 19 x 256 x 448] at /opt/conda/conda-bld/pytorch_1579022034529/work/aten/src/THCUNN/generic/SpatialClassNLLCriterion.cu:23"
     ]
    }
   ],
   "source": [
    "# Train\n",
    "outputs_list = []\n",
    "loss_list = []\n",
    "model.train()\n",
    "for epoch in range(num_epochs):\n",
    "    for data in tqdm(train_loader):\n",
    "        \n",
    "        imgSeq, annotatedOutput, imgName = data\n",
    "        \n",
    "        # Send data to device\n",
    "        img = Variable(imgSeq[-1])\n",
    "        img = img.to(device)\n",
    "        \n",
    "        # Forward pass\n",
    "        output = model(img)\n",
    "        annotatedOutput = annotatedOutput.to(device).long()\n",
    "#         output = output.argmax(dim=1)\n",
    "        loss = loss_fn(output, annotatedOutput)\n",
    "        \n",
    "        # Backprop\n",
    "        optimizer.zero_grad()\n",
    "        loss.backward()\n",
    "        optimizer.step()\n",
    "        \n",
    "    # Display\n",
    "    print('epoch {}/{}, loss {:.4f}'.format(epoch + 1, num_epochs, loss.item()))\n",
    "    outputs_list.append((epoch, img, output),)\n",
    "    loss_list.append(loss.item())\n",
    "    torch.save(model.state_dict(),\"PSP_Model_epoch_\"+str(epoch)+\".pt\")"
   ]
  },
  {
   "cell_type": "code",
   "execution_count": null,
   "metadata": {},
   "outputs": [],
   "source": [
    "torch.save(model.state_dict(),\"psp_model_stoppedhalfwayat13epochs.pt\")"
   ]
  },
  {
   "cell_type": "code",
   "execution_count": null,
   "metadata": {},
   "outputs": [],
   "source": [
    "torch.manual_seed(10)\n",
    "model = MNIST_Autoencoder().to(device)\n",
    "model.load_state_dict(torch.load(\"PSP_Model_epoch_19.pt\"))"
   ]
  },
  {
   "cell_type": "code",
   "execution_count": null,
   "metadata": {},
   "outputs": [],
   "source": [
    "# Display loss\n",
    "plt.figure()\n",
    "plt.plot(loss_list)\n",
    "plt.show()"
   ]
  },
  {
   "cell_type": "code",
   "execution_count": null,
   "metadata": {},
   "outputs": [],
   "source": [
    "model.eval()\n",
    "for k in range(0, 13, 4):\n",
    "    plt.figure(figsize = (100, 50))\n",
    "    imgs = outputs_list[k][1].cpu().detach().numpy()\n",
    "    recon = outputs_list[k][2].cpu().detach().numpy()\n",
    "    for i, item in enumerate(imgs):\n",
    "        if i >= 9: break\n",
    "        plt.subplot(2, 9, i+1)\n",
    "        plt.imshow(item[0])\n",
    "        \n",
    "    for i, item in enumerate(recon):\n",
    "        if i >= 9: break\n",
    "        plt.subplot(2, 9, 9+i+1)\n",
    "        print(item.shape)\n",
    "        plt.imshow(item[0,:,:])"
   ]
  },
  {
   "cell_type": "code",
   "execution_count": null,
   "metadata": {},
   "outputs": [],
   "source": [
    " torch.cuda.empty_cache()"
   ]
  },
  {
   "cell_type": "code",
   "execution_count": null,
   "metadata": {},
   "outputs": [],
   "source": [
    "def convertColour(inp, label):\n",
    "    np_inp = inp.numpy()\n",
    "    label = label.numpy()\n",
    "    final = []\n",
    "    for i, i_label in zip(np_inp, label):\n",
    "        out = []\n",
    "        for j, j_label in zip(i, i_label):\n",
    "            if j_label == 255:\n",
    "                out.append(l.trainId2color[j_label])\n",
    "            else:\n",
    "                out.append(l.trainId2color[j])\n",
    "        final.append(out)\n",
    "    return np.asarray(final)"
   ]
  },
  {
   "cell_type": "code",
   "execution_count": null,
   "metadata": {},
   "outputs": [],
   "source": [
    "import datasets.labels as l\n",
    "import numpy as np\n",
    "for data in train_loader:\n",
    "\n",
    "    imgSeq, annotatedOutput, imgName = data\n",
    "\n",
    "    # Send data to device\n",
    "    img = Variable(imgSeq[-1])\n",
    "    img = img.to(device)\n",
    "\n",
    "    # Forward pass\n",
    "    output = model(img)\n",
    "    annotatedOutput = annotatedOutput.to(device).long()\n",
    "    break\n",
    "plt.imshow(convertColour(torch.max(output[0].cpu(),0).indices,annotatedOutput[0].cpu()))\n",
    "print(torch.max(output[0].cpu(),0).indices)"
   ]
  },
  {
   "cell_type": "code",
   "execution_count": null,
   "metadata": {},
   "outputs": [],
   "source": []
  }
 ],
 "metadata": {
  "kernelspec": {
   "display_name": "Python 3",
   "language": "python",
   "name": "python3"
  },
  "language_info": {
   "codemirror_mode": {
    "name": "ipython",
    "version": 3
   },
   "file_extension": ".py",
   "mimetype": "text/x-python",
   "name": "python",
   "nbconvert_exporter": "python",
   "pygments_lexer": "ipython3",
   "version": "3.6.10"
  }
 },
 "nbformat": 4,
 "nbformat_minor": 4
}
